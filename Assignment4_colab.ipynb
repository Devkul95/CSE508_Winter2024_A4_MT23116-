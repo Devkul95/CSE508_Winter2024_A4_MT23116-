{
  "nbformat": 4,
  "nbformat_minor": 0,
  "metadata": {
    "colab": {
      "provenance": [],
      "mount_file_id": "1wRCmuWtEsCJ2oBsmoG4e4E_Xsf7yNt2b",
      "authorship_tag": "ABX9TyN1ROS2hkGNJ1On/Tl5sm3g",
      "include_colab_link": true
    },
    "kernelspec": {
      "name": "python3",
      "display_name": "Python 3"
    },
    "language_info": {
      "name": "python"
    }
  },
  "cells": [
    {
      "cell_type": "markdown",
      "metadata": {
        "id": "view-in-github",
        "colab_type": "text"
      },
      "source": [
        "<a href=\"https://colab.research.google.com/github/Devkul95/CSE508_Winter2024_A4_MT23116-/blob/main/Assignment4_colab.ipynb\" target=\"_parent\"><img src=\"https://colab.research.google.com/assets/colab-badge.svg\" alt=\"Open In Colab\"/></a>"
      ]
    },
    {
      "cell_type": "code",
      "execution_count": 1,
      "metadata": {
        "id": "wM6MsPq8Rz5r"
      },
      "outputs": [],
      "source": [
        "import pandas as pd\n",
        "import numpy as np\n",
        "import torch\n",
        "from sklearn.model_selection import train_test_split\n",
        "from transformers import GPT2Tokenizer, GPT2LMHeadModel\n",
        "from torch.utils.data import Dataset, DataLoader"
      ]
    },
    {
      "cell_type": "code",
      "source": [
        "df = pd.read_csv(\"/content/drive/MyDrive/IR Assignment4/preprocessed_reviews.csv\")"
      ],
      "metadata": {
        "id": "t9-2h9djSC3K"
      },
      "execution_count": 2,
      "outputs": []
    },
    {
      "cell_type": "code",
      "source": [
        "df.shape"
      ],
      "metadata": {
        "colab": {
          "base_uri": "https://localhost:8080/"
        },
        "id": "juGVUhMzSJ_q",
        "outputId": "b59d9956-4d6b-418e-93be-a9702dfd00ab"
      },
      "execution_count": 3,
      "outputs": [
        {
          "output_type": "execute_result",
          "data": {
            "text/plain": [
              "(568427, 4)"
            ]
          },
          "metadata": {},
          "execution_count": 3
        }
      ]
    },
    {
      "cell_type": "code",
      "source": [
        "df = df[:300000].copy()\n",
        "print(df.shape)\n",
        "print(df.head())"
      ],
      "metadata": {
        "colab": {
          "base_uri": "https://localhost:8080/"
        },
        "id": "fSedOVOXSN9M",
        "outputId": "e9c1dc41-10f4-4ae2-9136-70a4a1dab6c8"
      },
      "execution_count": 4,
      "outputs": [
        {
          "output_type": "stream",
          "name": "stdout",
          "text": [
            "(300000, 4)\n",
            "                                                Text                Summary  \\\n",
            "0  i have bought several of the vitality canned d...  good quality dog food   \n",
            "1  product arrived labeled as jumbo salted peanut...      not as advertised   \n",
            "2  this is a confection that has been around a fe...  \"delight\" says it all   \n",
            "3  if you are looking for the secret ingredient i...         cough medicine   \n",
            "4  great taffy at a great price.  there was a wid...            great taffy   \n",
            "\n",
            "                                   preprocessed_text   preprocessed_summary  \n",
            "0  bought several vitality canned dog food produc...  good quality dog food  \n",
            "1  product arrived labeled jumbo salted peanutsth...             advertised  \n",
            "2  confection ha around century light pillowy cit...            delight say  \n",
            "3  looking secret ingredient robitussin believe f...         cough medicine  \n",
            "4  great taffy great price wa wide assortment yum...            great taffy  \n"
          ]
        }
      ]
    },
    {
      "cell_type": "code",
      "source": [],
      "metadata": {
        "id": "rgaTNW5PSTlz"
      },
      "execution_count": null,
      "outputs": []
    }
  ]
}